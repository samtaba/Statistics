{
 "cells": [
  {
   "cell_type": "markdown",
   "metadata": {},
   "source": [
    "# Statistics"
   ]
  },
  {
   "cell_type": "markdown",
   "metadata": {},
   "source": [
    "## Mean\n",
    "\n",
    "The expected or average value of random variables\n",
    "\n",
    "  $ \\overline{x} = \\dfrac{1}{n} \\sum\\limits_{i=1}^{n} x_i = \\dfrac{1}{n} \\ \\textbf{1}_{n}^{T} \\ \\textbf{x} $\n",
    "\n",
    "## Variance \n",
    "\n",
    "Is a measure of variability in a set of random variables\n",
    "\n",
    "  There are several ways to measure spread, we will look at variance:\n",
    "\n",
    "  - overall range: $ max(\\textbf{x})−min(\\textbf{x}) $\n",
    "  - Interquartile range:  $ Q3(x) − Q1(x) $\n",
    "  - The length between two quantiles\n",
    "  - Variance (and its square root the standard deviation)\n",
    "  \n",
    "  $ \\sigma_x^2 = \\dfrac{1}{n} \\sum\\limits_{i=1}^{n} (x_i - \\overline{x})^2 = \\dfrac{1}{n} \\ (\\textbf{x} - \\overline{\\textbf{x}})^T (\\textbf{x} - \\overline{\\textbf{x}}) $\n",
    "\n",
    "  $ \\sigma_x= \\sqrt{\\dfrac{1}{n} \\sum\\limits_{i=1}^{n} (x_i - \\overline{x})^2} $\n",
    "\n",
    "  "
   ]
  },
  {
   "cell_type": "markdown",
   "metadata": {},
   "source": [
    "## Covariance\n",
    "\n",
    "The covariance generalizes the concept of variance for two variables.\n",
    "\n",
    "$ \\sigma_{xy} = \\dfrac{1}{n} \\sum\\limits_{i=1}^{n} (x_i - \\overline{x})(y_i - \\overline{y}) = \\dfrac{1}{n} \\ (\\textbf{x} - \\overline{\\textbf{x}})^T (\\textbf{y} - \\overline{\\textbf{y}}) $\n",
    "\n",
    "Properties of covariance:\n",
    "\n",
    "- the covariance can take any real value (negative, null, positive)\n",
    "  \n",
    "- the covariance is symmetric $ \\sigma_{xy} = \\sigma_{yx} $\n",
    "\n",
    "- the covariance is linked to variances under the name of the **Cauchy-Schwarz inequality** $ \\sigma_{xy}^2 ≤ \\sigma_{x}^2 \\sigma_{y}^2 $\n",
    "\n",
    "The covariance between n variables can be expressed in an $ n \\times n $ square matrix called te covariance matrix which by definition is symmetric\n",
    "\n",
    "$ \n",
    "\\Sigma =\n",
    "\\begin{bmatrix}\n",
    "\\sigma_{11} & \\sigma_{12} & \\cdots & \\sigma_{1n} \\\\\n",
    "\\sigma_{21} & \\sigma_{22} & \\cdots & \\sigma_{2n} \\\\\n",
    "\\vdots & \\vdots &   & \\vdots \\\\\n",
    "\\sigma_{n1} & \\sigma_{n2} & \\cdots & \\sigma_{nn}\n",
    "\\end{bmatrix}\n",
    "\\ \\ \\ \\ \\ \\ \\ \\\n",
    "$\n",
    "where\n",
    "$\n",
    "\\sigma_{ii} = \\sigma_{i}^2 \n",
    "\\ \\ \n",
    "$\n",
    "and\n",
    "$\n",
    "\\ \\\n",
    "\\sigma_{ij} = \\sigma_{ji}\n",
    "$"
   ]
  },
  {
   "cell_type": "markdown",
   "metadata": {},
   "source": [
    "## Correlation\n",
    "\n",
    "The correlation is the normalized version of the covariance and is also a square matrix. \n",
    "\n",
    "To normalize the covariance matrix, we must introduce the standard deviations of the variables in the denominator.\n",
    "\n",
    "$ \n",
    "\\rho_{xy} = \\dfrac{\\sigma_{xy}}{\\sigma_x \\sigma_y} \n",
    "\\ \\ \\ \\ \\ \\ \\ \\ \\\n",
    "$\n",
    "where \n",
    "$\n",
    "\\ \n",
    "\\rho_{ij} = \\rho_{ji} \n",
    "\\ \\ \\ \\\n",
    "$\n",
    "and\n",
    "$\n",
    "\\rho_{ii} = 1\n",
    "$\n",
    "\n",
    "A correlation matrix can constructed for the correlation between multiple variables\n",
    "\n",
    "$\n",
    "\\Rho =\n",
    "\\begin{bmatrix}\n",
    "1 & \\rho_{12} & \\cdots & \\rho_{1n} \\\\\n",
    "\\rho_{21} & 1 & \\cdots & \\rho_{2n} \\\\\n",
    "\\vdots & \\vdots &   & \\vdots \\\\\n",
    "\\rho_{n1} & \\rho_{n2} & \\cdots & 1\n",
    "\\end{bmatrix}\n",
    "\\ \\ \\ \\ \\ \\ \\ \\\n",
    "$"
   ]
  }
 ],
 "metadata": {
  "kernelspec": {
   "display_name": "Python 3 (ipykernel)",
   "language": "python",
   "name": "python3"
  },
  "language_info": {
   "codemirror_mode": {
    "name": "ipython",
    "version": 3
   },
   "file_extension": ".py",
   "mimetype": "text/x-python",
   "name": "python",
   "nbconvert_exporter": "python",
   "pygments_lexer": "ipython3",
   "version": "3.10.11"
  }
 },
 "nbformat": 4,
 "nbformat_minor": 4
}
